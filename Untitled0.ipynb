{
  "nbformat": 4,
  "nbformat_minor": 0,
  "metadata": {
    "colab": {
      "provenance": [],
      "gpuType": "T4",
      "authorship_tag": "ABX9TyO8byJ5uzEAoyEiO/uoMDrd",
      "include_colab_link": true
    },
    "kernelspec": {
      "name": "python3",
      "display_name": "Python 3"
    },
    "language_info": {
      "name": "python"
    },
    "accelerator": "GPU"
  },
  "cells": [
    {
      "cell_type": "markdown",
      "metadata": {
        "id": "view-in-github",
        "colab_type": "text"
      },
      "source": [
        "<a href=\"https://colab.research.google.com/github/SZN-CHIRO/Python-Projects/blob/main/Untitled0.ipynb\" target=\"_parent\"><img src=\"https://colab.research.google.com/assets/colab-badge.svg\" alt=\"Open In Colab\"/></a>"
      ]
    },
    {
      "cell_type": "code",
      "execution_count": 1,
      "metadata": {
        "colab": {
          "base_uri": "https://localhost:8080/"
        },
        "id": "oP7IeowMutLQ",
        "outputId": "5e4388b8-0930-45da-e5ee-d603a3777ccb"
      },
      "outputs": [
        {
          "output_type": "stream",
          "name": "stdout",
          "text": [
            "2.6.0+cu124\n",
            "True\n"
          ]
        }
      ],
      "source": [
        "import torch\n",
        "\n",
        "print(torch.__version__)              # Show PyTorch version\n",
        "print(torch.cuda.is_available())      # Check if GPU is available\n",
        "\n"
      ]
    },
    {
      "cell_type": "code",
      "source": [
        "import torch\n",
        "\n",
        "print(\"PyTorch version:\", torch.__version__)\n",
        "print(\"GPU available:\", torch.cuda.is_available())\n",
        "if torch.cuda.is_available():\n",
        "    print(\"GPU name:\", torch.cuda.get_device_name(0))\n"
      ],
      "metadata": {
        "colab": {
          "base_uri": "https://localhost:8080/"
        },
        "id": "6fQhkgA3u68Q",
        "outputId": "a1e8de63-37bc-46ac-e881-229ca9f386f0"
      },
      "execution_count": 2,
      "outputs": [
        {
          "output_type": "stream",
          "name": "stdout",
          "text": [
            "PyTorch version: 2.6.0+cu124\n",
            "GPU available: True\n",
            "GPU name: Tesla T4\n"
          ]
        }
      ]
    },
    {
      "cell_type": "code",
      "source": [
        "# Create a tensor of shape (3, 3)\n",
        "x = torch.rand(3, 3)\n",
        "print(x)\n"
      ],
      "metadata": {
        "colab": {
          "base_uri": "https://localhost:8080/"
        },
        "id": "MCfOrF-PxM4c",
        "outputId": "ff801714-5572-4cdc-baee-8cd3845db8dd"
      },
      "execution_count": 5,
      "outputs": [
        {
          "output_type": "stream",
          "name": "stdout",
          "text": [
            "tensor([[0.4894, 0.2256, 0.1598],\n",
            "        [0.3544, 0.5567, 0.8385],\n",
            "        [0.8592, 0.2513, 0.4212]])\n"
          ]
        }
      ]
    },
    {
      "cell_type": "code",
      "source": [
        "import torch.nn as nn\n",
        "\n",
        "model = nn.Linear(in_features=3, out_features=2)  # 3 inputs → 2 outputs\n",
        "print(model)\n"
      ],
      "metadata": {
        "colab": {
          "base_uri": "https://localhost:8080/"
        },
        "id": "iqvvJLwsyDUq",
        "outputId": "e0ab07de-631c-4a4d-9afd-58190a529802"
      },
      "execution_count": 6,
      "outputs": [
        {
          "output_type": "stream",
          "name": "stdout",
          "text": [
            "Linear(in_features=3, out_features=2, bias=True)\n"
          ]
        }
      ]
    },
    {
      "cell_type": "code",
      "source": [
        "import torch.nn as nn\n",
        "\n",
        "model = nn.Linear(in_features=3, out_features=2)  # 3 inputs → 2 outputs\n",
        "print(model)\n"
      ],
      "metadata": {
        "colab": {
          "base_uri": "https://localhost:8080/"
        },
        "id": "B4bYxy0HyR_X",
        "outputId": "74d615bc-8432-44c3-e8b7-55f18254642d"
      },
      "execution_count": 7,
      "outputs": [
        {
          "output_type": "stream",
          "name": "stdout",
          "text": [
            "Linear(in_features=3, out_features=2, bias=True)\n"
          ]
        }
      ]
    },
    {
      "cell_type": "code",
      "source": [
        "import torch\n",
        "import torch.nn as nn\n",
        "import torch.optim as optim\n",
        "from torch.utils.data import DataLoader, TensorDataset\n",
        "\n",
        "# 1. Dummy dataset\n",
        "X = torch.rand(100, 3)  # 100 samples, 3 features\n",
        "y = torch.rand(100, 1)  # 100 targets\n",
        "\n",
        "# Wrap data in DataLoader for batching\n",
        "dataset = TensorDataset(X, y)\n",
        "batch_size = 16\n",
        "loader = DataLoader(dataset, batch_size=batch_size, shuffle=True)\n",
        "\n",
        "# 2. Model\n",
        "model = nn.Linear(3, 1)  # input=3 features, output=1\n",
        "\n",
        "# 3. Loss function\n",
        "loss_fn = nn.MSELoss()\n",
        "\n",
        "# 4. Optimizer (Adam)\n",
        "learning_rate = 0.001\n",
        "optimizer = optim.Adam(model.parameters(), lr=learning_rate)\n",
        "\n",
        "# 5. Training loop\n",
        "epochs = 20\n",
        "for epoch in range(epochs):\n",
        "    epoch_loss = 0\n",
        "    for batch_X, batch_y in loader:\n",
        "        # Forward pass\n",
        "        y_pred = model(batch_X)\n",
        "\n",
        "        # Compute loss\n",
        "        loss = loss_fn(y_pred, batch_y)\n",
        "\n",
        "        # Backward pass\n",
        "        optimizer.zero_grad()  # clear previous gradients\n",
        "        loss.backward()        # compute gradients\n",
        "        optimizer.step()       # update weights\n",
        "\n",
        "        epoch_loss += loss.item()\n",
        "\n",
        "    print(f\"Epoch {epoch+1}, Average Loss: {epoch_loss/len(loader):.4f}\")\n"
      ],
      "metadata": {
        "colab": {
          "base_uri": "https://localhost:8080/"
        },
        "id": "5ySbbT0pyZE7",
        "outputId": "f407b950-8b45-4c63-fb89-0ab85ed57236"
      },
      "execution_count": 13,
      "outputs": [
        {
          "output_type": "stream",
          "name": "stdout",
          "text": [
            "Epoch 1, Average Loss: 0.8005\n",
            "Epoch 2, Average Loss: 0.8150\n",
            "Epoch 3, Average Loss: 0.7820\n",
            "Epoch 4, Average Loss: 0.7417\n",
            "Epoch 5, Average Loss: 0.7308\n",
            "Epoch 6, Average Loss: 0.6983\n",
            "Epoch 7, Average Loss: 0.6670\n",
            "Epoch 8, Average Loss: 0.6196\n",
            "Epoch 9, Average Loss: 0.5841\n",
            "Epoch 10, Average Loss: 0.5591\n",
            "Epoch 11, Average Loss: 0.5397\n",
            "Epoch 12, Average Loss: 0.5534\n",
            "Epoch 13, Average Loss: 0.5473\n",
            "Epoch 14, Average Loss: 0.4989\n",
            "Epoch 15, Average Loss: 0.4898\n",
            "Epoch 16, Average Loss: 0.4545\n",
            "Epoch 17, Average Loss: 0.4598\n",
            "Epoch 18, Average Loss: 0.4051\n",
            "Epoch 19, Average Loss: 0.4125\n",
            "Epoch 20, Average Loss: 0.3933\n"
          ]
        }
      ]
    },
    {
      "cell_type": "code",
      "source": [],
      "metadata": {
        "colab": {
          "base_uri": "https://localhost:8080/"
        },
        "id": "qRLgZQh47sjx",
        "outputId": "f16bbdbc-41ef-474b-f314-a2d89db7d134"
      },
      "execution_count": 9,
      "outputs": [
        {
          "output_type": "stream",
          "name": "stdout",
          "text": [
            "tensor([[-0.4773],\n",
            "        [-0.4717]])\n"
          ]
        }
      ]
    },
    {
      "cell_type": "code",
      "source": [
        "torch.save(model.state_dict(), \"model.pth\")  # save weights\n",
        "# Later you can load it\n",
        "model = nn.Linear(3, 1)\n",
        "model.load_state_dict(torch.load(\"model.pth\"))\n",
        "model.eval()  # set to evaluation mode\n"
      ],
      "metadata": {
        "colab": {
          "base_uri": "https://localhost:8080/"
        },
        "id": "Y0P48KFZ8CCz",
        "outputId": "7ac7a5ca-eb49-44e8-a650-9b69a966b98f"
      },
      "execution_count": 10,
      "outputs": [
        {
          "output_type": "execute_result",
          "data": {
            "text/plain": [
              "Linear(in_features=3, out_features=1, bias=True)"
            ]
          },
          "metadata": {},
          "execution_count": 10
        }
      ]
    },
    {
      "cell_type": "code",
      "source": [
        "# Define prediction function\n",
        "def predict(input_data):\n",
        "    with torch.no_grad():\n",
        "        return model(torch.tensor(input_data, dtype=torch.float32))\n",
        "\n",
        "# Test it\n",
        "new_data = [[0.2, 0.5, 0.1], [0.9, 0.3, 0.7]]\n",
        "predictions = predict(new_data)\n",
        "print(predictions)\n",
        "\n"
      ],
      "metadata": {
        "colab": {
          "base_uri": "https://localhost:8080/"
        },
        "id": "2oJ-LZGA-lhQ",
        "outputId": "c6318a3b-36d3-4cf5-a81e-7581a05dd1b0"
      },
      "execution_count": 11,
      "outputs": [
        {
          "output_type": "stream",
          "name": "stdout",
          "text": [
            "tensor([[-0.4773],\n",
            "        [-0.4717]])\n"
          ]
        }
      ]
    },
    {
      "cell_type": "code",
      "source": [
        "!pip install fastapi uvicorn nest-asyncio pyngrok\n"
      ],
      "metadata": {
        "colab": {
          "base_uri": "https://localhost:8080/"
        },
        "id": "PDWizwTU_Bx0",
        "outputId": "66137cf3-86c7-4503-b716-a92172e273d2"
      },
      "execution_count": 14,
      "outputs": [
        {
          "output_type": "stream",
          "name": "stdout",
          "text": [
            "Requirement already satisfied: fastapi in /usr/local/lib/python3.11/dist-packages (0.116.1)\n",
            "Requirement already satisfied: uvicorn in /usr/local/lib/python3.11/dist-packages (0.35.0)\n",
            "Requirement already satisfied: nest-asyncio in /usr/local/lib/python3.11/dist-packages (1.6.0)\n",
            "Collecting pyngrok\n",
            "  Downloading pyngrok-7.3.0-py3-none-any.whl.metadata (8.1 kB)\n",
            "Requirement already satisfied: starlette<0.48.0,>=0.40.0 in /usr/local/lib/python3.11/dist-packages (from fastapi) (0.47.2)\n",
            "Requirement already satisfied: pydantic!=1.8,!=1.8.1,!=2.0.0,!=2.0.1,!=2.1.0,<3.0.0,>=1.7.4 in /usr/local/lib/python3.11/dist-packages (from fastapi) (2.11.7)\n",
            "Requirement already satisfied: typing-extensions>=4.8.0 in /usr/local/lib/python3.11/dist-packages (from fastapi) (4.14.1)\n",
            "Requirement already satisfied: click>=7.0 in /usr/local/lib/python3.11/dist-packages (from uvicorn) (8.2.1)\n",
            "Requirement already satisfied: h11>=0.8 in /usr/local/lib/python3.11/dist-packages (from uvicorn) (0.16.0)\n",
            "Requirement already satisfied: PyYAML>=5.1 in /usr/local/lib/python3.11/dist-packages (from pyngrok) (6.0.2)\n",
            "Requirement already satisfied: annotated-types>=0.6.0 in /usr/local/lib/python3.11/dist-packages (from pydantic!=1.8,!=1.8.1,!=2.0.0,!=2.0.1,!=2.1.0,<3.0.0,>=1.7.4->fastapi) (0.7.0)\n",
            "Requirement already satisfied: pydantic-core==2.33.2 in /usr/local/lib/python3.11/dist-packages (from pydantic!=1.8,!=1.8.1,!=2.0.0,!=2.0.1,!=2.1.0,<3.0.0,>=1.7.4->fastapi) (2.33.2)\n",
            "Requirement already satisfied: typing-inspection>=0.4.0 in /usr/local/lib/python3.11/dist-packages (from pydantic!=1.8,!=1.8.1,!=2.0.0,!=2.0.1,!=2.1.0,<3.0.0,>=1.7.4->fastapi) (0.4.1)\n",
            "Requirement already satisfied: anyio<5,>=3.6.2 in /usr/local/lib/python3.11/dist-packages (from starlette<0.48.0,>=0.40.0->fastapi) (4.10.0)\n",
            "Requirement already satisfied: idna>=2.8 in /usr/local/lib/python3.11/dist-packages (from anyio<5,>=3.6.2->starlette<0.48.0,>=0.40.0->fastapi) (3.10)\n",
            "Requirement already satisfied: sniffio>=1.1 in /usr/local/lib/python3.11/dist-packages (from anyio<5,>=3.6.2->starlette<0.48.0,>=0.40.0->fastapi) (1.3.1)\n",
            "Downloading pyngrok-7.3.0-py3-none-any.whl (25 kB)\n",
            "Installing collected packages: pyngrok\n",
            "Successfully installed pyngrok-7.3.0\n"
          ]
        }
      ]
    },
    {
      "cell_type": "code",
      "source": [
        "from fastapi import FastAPI\n",
        "import nest_asyncio\n",
        "from pyngrok import ngrok\n",
        "import uvicorn"
      ],
      "metadata": {
        "id": "-AqPuuJb_6HM"
      },
      "execution_count": 15,
      "outputs": []
    },
    {
      "cell_type": "code",
      "source": [
        "app = FastAPI()\n",
        "\n",
        "@app.post(\"/predict/\")\n",
        "def get_prediction(data: list):\n",
        "    pred = predict(data)\n",
        "    return {\"prediction\": pred.tolist()}\n"
      ],
      "metadata": {
        "id": "N1jpgcc7__Jm"
      },
      "execution_count": 16,
      "outputs": []
    }
  ]
}