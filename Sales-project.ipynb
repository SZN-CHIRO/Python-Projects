{
 "cells": [
  {
   "cell_type": "code",
   "execution_count": 5,
   "id": "4871e39e-4276-4511-8f49-87f38dd2a856",
   "metadata": {},
   "outputs": [],
   "source": [
    "import pandas as pd  \n",
    "import numpy as np  \n",
    "import matplotlib.pyplot as plt  \n",
    "import seaborn as sns  \n",
    "from sklearn.model_selection import train_test_split  \n",
    "from sklearn.linear_model import LinearRegression  \n",
    "from sklearn.metrics import mean_absolute_error, mean_squared_error, r2_score  \n",
    "\n",
    "# Display plots inline  \n",
    "%matplotlib inline\n"
   ]
  },
  {
   "cell_type": "code",
   "execution_count": null,
   "id": "eabeff33-12d5-4342-9e0a-97e92b6e25fa",
   "metadata": {},
   "outputs": [],
   "source": [
    "# Load dataset\n",
    "df = pd.read_csv(\"customer_sales.csv\")\n",
    "\n",
    "# Display first 5 rows\n",
    "df.head()"
   ]
  },
  {
   "cell_type": "code",
   "execution_count": null,
   "id": "190a900b-45ab-4b2f-ae3a-3090bacefbb6",
   "metadata": {},
   "outputs": [],
   "source": [
    "print(df.isnull().sum())  \n"
   ]
  },
  {
   "cell_type": "code",
   "execution_count": null,
   "id": "917ed8cd-d275-48a5-ab81-1e48c3441410",
   "metadata": {},
   "outputs": [],
   "source": [
    "df.describe()\n"
   ]
  },
  {
   "cell_type": "code",
   "execution_count": null,
   "id": "ab964bdd-8b00-4dba-ab9d-9e88eb33fd60",
   "metadata": {},
   "outputs": [],
   "source": [
    "df.info()\n"
   ]
  },
  {
   "cell_type": "code",
   "execution_count": null,
   "id": "b0d38818-09bd-4e37-b542-2e9e6c612e08",
   "metadata": {},
   "outputs": [],
   "source": [
    "plt.figure(figsize=(10, 6))  \n",
    "sns.heatmap(df.corr(), annot=True, cmap=\"coolwarm\")  \n",
    "plt.title(\"Correlation Heatmap\")  \n",
    "plt.show()\n"
   ]
  },
  {
   "cell_type": "code",
   "execution_count": null,
   "id": "dd914cd0-35df-40c2-b1e6-4fd30b5a774a",
   "metadata": {},
   "outputs": [],
   "source": [
    "sns.histplot(df[\"Total_Sales\"], bins=30, kde=True)  \n",
    "plt.title(\"Sales Distribution\")  \n",
    "plt.show()\n"
   ]
  },
  {
   "cell_type": "code",
   "execution_count": null,
   "id": "a7aefaf9-7446-412b-bc80-c4580cc439ae",
   "metadata": {},
   "outputs": [],
   "source": [
    "X = df[['Customer_Age', 'Annual_Income', 'Total_Orders']]  \n",
    "y = df['Total_Sales']\n"
   ]
  },
  {
   "cell_type": "code",
   "execution_count": null,
   "id": "89d6a28b-92c2-43ab-814c-db5c0f9898aa",
   "metadata": {},
   "outputs": [],
   "source": [
    "X_train, X_test, y_train, y_test = train_test_split(X, y, test_size=0.2, random_state=42)\n"
   ]
  },
  {
   "cell_type": "code",
   "execution_count": null,
   "id": "41e59b90-c1f4-42fd-bab7-22c4f20e5ca2",
   "metadata": {},
   "outputs": [],
   "source": [
    "model = LinearRegression()  \n",
    "model.fit(X_train, y_train)\n"
   ]
  },
  {
   "cell_type": "code",
   "execution_count": null,
   "id": "18204d34-6898-4168-ba10-29ee940cdef5",
   "metadata": {},
   "outputs": [],
   "source": [
    "y_pred = model.predict(X_test)\n"
   ]
  },
  {
   "cell_type": "code",
   "execution_count": null,
   "id": "9c6d5b97-d4c5-4ba3-b7fc-6c6fe17df077",
   "metadata": {},
   "outputs": [],
   "source": [
    "print(\"MAE:\", mean_absolute_error(y_test, y_pred))  \n",
    "print(\"MSE:\", mean_squared_error(y_test, y_pred))  \n",
    "print(\"R² Score:\", r2_score(y_test, y_pred))\n"
   ]
  },
  {
   "cell_type": "code",
   "execution_count": null,
   "id": "957e94b4-ad5c-47fd-9639-76303bf06cb6",
   "metadata": {},
   "outputs": [],
   "source": []
  }
 ],
 "metadata": {
  "kernelspec": {
   "display_name": "Python 3 (ipykernel)",
   "language": "python",
   "name": "python3"
  },
  "language_info": {
   "codemirror_mode": {
    "name": "ipython",
    "version": 3
   },
   "file_extension": ".py",
   "mimetype": "text/x-python",
   "name": "python",
   "nbconvert_exporter": "python",
   "pygments_lexer": "ipython3",
   "version": "3.12.4"
  }
 },
 "nbformat": 4,
 "nbformat_minor": 5
}
